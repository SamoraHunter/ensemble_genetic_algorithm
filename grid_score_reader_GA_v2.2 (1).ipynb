{
 "cells": [
  {
   "cell_type": "code",
   "execution_count": null,
   "id": "371bd6e4",
   "metadata": {},
   "outputs": [],
   "source": [
    "import pandas as pd\n",
    "import numpy as np\n",
    "import os"
   ]
  },
  {
   "cell_type": "code",
   "execution_count": null,
   "id": "693312e8",
   "metadata": {},
   "outputs": [],
   "source": [
    "pre='HFE_ML_GA_experiments/'"
   ]
  },
  {
   "cell_type": "code",
   "execution_count": null,
   "id": "6807104b",
   "metadata": {},
   "outputs": [],
   "source": [
    "run_dates = [folder for folder in os.listdir(pre) if os.path.isdir(os.path.join(pre, folder))]"
   ]
  },
  {
   "cell_type": "code",
   "execution_count": null,
   "id": "4f3709d0",
   "metadata": {},
   "outputs": [],
   "source": [
    "run_dates.sort()"
   ]
  },
  {
   "cell_type": "code",
   "execution_count": null,
   "id": "36cf76ea",
   "metadata": {},
   "outputs": [],
   "source": [
    "run_dates"
   ]
  },
  {
   "cell_type": "code",
   "execution_count": null,
   "id": "695dcf04",
   "metadata": {},
   "outputs": [],
   "source": [
    "interest_metric = 'mcc'"
   ]
  },
  {
   "cell_type": "code",
   "execution_count": null,
   "id": "7acad4fc",
   "metadata": {},
   "outputs": [],
   "source": [
    "df = pd.read_csv(pre+run_dates[-1]+'/final_grid_score_log.csv').sort_values(by=interest_metric, ascending=False)"
   ]
  },
  {
   "cell_type": "code",
   "execution_count": null,
   "id": "98e1522b",
   "metadata": {},
   "outputs": [],
   "source": []
  },
  {
   "cell_type": "code",
   "execution_count": null,
   "id": "b6a5b9af",
   "metadata": {},
   "outputs": [],
   "source": []
  },
  {
   "cell_type": "code",
   "execution_count": null,
   "id": "79a50b1e",
   "metadata": {},
   "outputs": [],
   "source": [
    "df = df[df['date_time_stamp'] == False]"
   ]
  },
  {
   "cell_type": "code",
   "execution_count": null,
   "id": "50cf534d",
   "metadata": {},
   "outputs": [],
   "source": [
    "df.sort_values(by='auc', ascending=False).iloc[0]"
   ]
  },
  {
   "cell_type": "code",
   "execution_count": null,
   "id": "1912ff1c",
   "metadata": {},
   "outputs": [],
   "source": [
    "df.columns[0:30]"
   ]
  },
  {
   "cell_type": "code",
   "execution_count": null,
   "id": "9b85f5ff",
   "metadata": {},
   "outputs": [],
   "source": [
    "df.sort_values(by='auc', ascending=False).iloc[0]['BL_1']"
   ]
  },
  {
   "cell_type": "code",
   "execution_count": null,
   "id": "7b69f87a",
   "metadata": {},
   "outputs": [],
   "source": []
  },
  {
   "cell_type": "code",
   "execution_count": null,
   "id": "27a14296",
   "metadata": {},
   "outputs": [],
   "source": [
    "df"
   ]
  },
  {
   "cell_type": "code",
   "execution_count": null,
   "id": "e69032ca",
   "metadata": {},
   "outputs": [],
   "source": [
    "df.columns[0:50]"
   ]
  },
  {
   "cell_type": "code",
   "execution_count": null,
   "id": "2fb13bdd",
   "metadata": {},
   "outputs": [],
   "source": [
    "df[(df['annotation_n']==False) &\n",
    "   (df['meta_sp_annotation_n']==False) &\n",
    "   (df['meta_sp_annotation_mrc_n']==False) &\n",
    "   (df['annotation_mrc_n']==False)\n",
    "  ]"
   ]
  },
  {
   "cell_type": "code",
   "execution_count": null,
   "id": "f1353045",
   "metadata": {},
   "outputs": [],
   "source": [
    "all_col_list = list(df.columns)"
   ]
  },
  {
   "cell_type": "code",
   "execution_count": null,
   "id": "6b187528",
   "metadata": {},
   "outputs": [],
   "source": [
    "# for col in all_col_list:\n",
    "#     if(col.find(\"BL\")!=-1):\n",
    "#         all_col_list.remove(col)"
   ]
  },
  {
   "cell_type": "code",
   "execution_count": null,
   "id": "79348222",
   "metadata": {},
   "outputs": [],
   "source": [
    "all_col_list_drop = [ x for x in all_col_list if \"BL_\" in x ]"
   ]
  },
  {
   "cell_type": "code",
   "execution_count": null,
   "id": "2d14d1aa",
   "metadata": {},
   "outputs": [],
   "source": [
    "df.drop(all_col_list_drop, axis=1, inplace=True)"
   ]
  },
  {
   "cell_type": "code",
   "execution_count": null,
   "id": "6e2134fe",
   "metadata": {},
   "outputs": [],
   "source": [
    "# df.dropna(axis=1, how='all', inplace=True)"
   ]
  },
  {
   "cell_type": "code",
   "execution_count": null,
   "id": "b34b5ca1",
   "metadata": {},
   "outputs": [],
   "source": [
    "df = df.loc[:, (df != df.iloc[0]).any()].copy()"
   ]
  },
  {
   "cell_type": "code",
   "execution_count": null,
   "id": "d52fe0d3",
   "metadata": {},
   "outputs": [],
   "source": [
    "df = pd.get_dummies(df,'weighted')"
   ]
  },
  {
   "cell_type": "code",
   "execution_count": null,
   "id": "a62f717b",
   "metadata": {},
   "outputs": [],
   "source": [
    "df"
   ]
  },
  {
   "cell_type": "code",
   "execution_count": null,
   "id": "12d390f6",
   "metadata": {},
   "outputs": [],
   "source": [
    "from string import ascii_letters\n",
    "import numpy as np\n",
    "import pandas as pd\n",
    "import seaborn as sns\n",
    "import matplotlib.pyplot as plt\n",
    "\n",
    "sns.set_theme(style=\"white\")\n",
    "\n",
    "\n",
    "# Compute the correlation matrix\n",
    "corr = df.corr()\n",
    "\n",
    "# Generate a mask for the upper triangle\n",
    "mask = np.triu(np.ones_like(corr, dtype=bool))\n",
    "\n",
    "# Set up the matplotlib figure\n",
    "f, ax = plt.subplots(figsize=(11, 9))\n",
    "\n",
    "# Generate a custom diverging colormap\n",
    "cmap = sns.diverging_palette(230, 20, as_cmap=True)\n",
    "\n",
    "# Draw the heatmap with the mask and correct aspect ratio\n",
    "sns.heatmap(corr, mask=mask, cmap=cmap, vmax=.3, center=0,\n",
    "            square=True, linewidths=.5, cbar_kws={\"shrink\": .5})"
   ]
  },
  {
   "cell_type": "code",
   "execution_count": null,
   "id": "22d33610",
   "metadata": {},
   "outputs": [],
   "source": [
    "import statsmodels.api as sm"
   ]
  },
  {
   "cell_type": "code",
   "execution_count": null,
   "id": "ffefc48b",
   "metadata": {},
   "outputs": [],
   "source": [
    "X = df.drop(interest_metric, axis=1)\n",
    "y = df[interest_metric]"
   ]
  },
  {
   "cell_type": "code",
   "execution_count": null,
   "id": "c1216613",
   "metadata": {},
   "outputs": [],
   "source": [
    "X"
   ]
  },
  {
   "cell_type": "code",
   "execution_count": null,
   "id": "b886d9f1",
   "metadata": {},
   "outputs": [],
   "source": []
  },
  {
   "cell_type": "code",
   "execution_count": null,
   "id": "8c489219",
   "metadata": {},
   "outputs": [],
   "source": [
    "#X['weighted_unweighted'] = df['weighted'].isna().astype(int)"
   ]
  },
  {
   "cell_type": "code",
   "execution_count": null,
   "id": "fca8bb82",
   "metadata": {},
   "outputs": [],
   "source": [
    "#X = pd.get_dummies(X, columns=['weighted'])"
   ]
  },
  {
   "cell_type": "code",
   "execution_count": null,
   "id": "871b9686",
   "metadata": {},
   "outputs": [],
   "source": [
    "#X = pd.get_dummies(X, columns=['outcome_var_n'])"
   ]
  },
  {
   "cell_type": "code",
   "execution_count": null,
   "id": "ebfb9dd6",
   "metadata": {},
   "outputs": [],
   "source": [
    "try:\n",
    "    X['resample_unweighted'] = df['resample'].isna().astype(int)\n",
    "except:\n",
    "    pass"
   ]
  },
  {
   "cell_type": "code",
   "execution_count": null,
   "id": "ca6299db",
   "metadata": {},
   "outputs": [],
   "source": [
    "try:\n",
    "    X = pd.get_dummies(X, columns=['resample'])\n",
    "except:\n",
    "    pass\n"
   ]
  },
  {
   "cell_type": "code",
   "execution_count": null,
   "id": "b9517123",
   "metadata": {},
   "outputs": [],
   "source": [
    "X"
   ]
  },
  {
   "cell_type": "code",
   "execution_count": null,
   "id": "fdc82a8c",
   "metadata": {},
   "outputs": [],
   "source": [
    "y.values"
   ]
  },
  {
   "cell_type": "code",
   "execution_count": null,
   "id": "6b224570",
   "metadata": {},
   "outputs": [],
   "source": [
    "metric_drop_list = ['mcc', 'f1', 'precision', 'recall', 'accuracy', 'auc']\n",
    "metric_drop_list.remove(interest_metric)"
   ]
  },
  {
   "cell_type": "code",
   "execution_count": null,
   "id": "cdbfe6ed",
   "metadata": {},
   "outputs": [],
   "source": [
    "X.drop(metric_drop_list,axis=1, inplace=True)"
   ]
  },
  {
   "cell_type": "code",
   "execution_count": null,
   "id": "205266d3",
   "metadata": {},
   "outputs": [],
   "source": [
    "X = X.loc[:, (X != X.iloc[0]).any()] "
   ]
  },
  {
   "cell_type": "code",
   "execution_count": null,
   "id": "fd16cefc",
   "metadata": {},
   "outputs": [],
   "source": [
    "X"
   ]
  },
  {
   "cell_type": "code",
   "execution_count": null,
   "id": "ece1e853",
   "metadata": {},
   "outputs": [],
   "source": [
    "X.columns"
   ]
  },
  {
   "cell_type": "code",
   "execution_count": null,
   "id": "60e9da3d",
   "metadata": {},
   "outputs": [],
   "source": [
    "from sklearn.preprocessing import StandardScaler\n",
    "\n",
    "x_cols = list(X.columns)\n",
    "\n",
    "scaler = StandardScaler()\n",
    "# transform data\n",
    "#scaled = scaler.fit_transform(X)\n",
    "\n",
    "scaler.fit(X)\n",
    "\n",
    "X = scaler.transform(X)\n",
    "\n",
    "X = pd.DataFrame(X, columns = x_cols)\n",
    "\n",
    "\n"
   ]
  },
  {
   "cell_type": "code",
   "execution_count": null,
   "id": "8d093c61",
   "metadata": {},
   "outputs": [],
   "source": [
    "X.dropna(axis=1, how='all', inplace=True)"
   ]
  },
  {
   "cell_type": "code",
   "execution_count": null,
   "id": "aebc5c26",
   "metadata": {},
   "outputs": [],
   "source": [
    "X"
   ]
  },
  {
   "cell_type": "code",
   "execution_count": null,
   "id": "4b499878",
   "metadata": {},
   "outputs": [],
   "source": []
  },
  {
   "cell_type": "code",
   "execution_count": null,
   "id": "15ed643e",
   "metadata": {},
   "outputs": [],
   "source": [
    "mod = sm.OLS(y.values.reshape(-1,1),X)\n",
    "res = mod.fit()\n",
    "print(res.summary())"
   ]
  },
  {
   "cell_type": "code",
   "execution_count": null,
   "id": "38feba46",
   "metadata": {},
   "outputs": [],
   "source": [
    "from xgboost import XGBRegressor\n",
    "import shap"
   ]
  },
  {
   "cell_type": "code",
   "execution_count": null,
   "id": "897410d1",
   "metadata": {
    "scrolled": true
   },
   "outputs": [],
   "source": [
    "model = XGBRegressor()\n",
    "model.fit(X, y)   "
   ]
  },
  {
   "cell_type": "code",
   "execution_count": null,
   "id": "7b7f8523",
   "metadata": {},
   "outputs": [],
   "source": [
    "y_pred = model.predict(X)\n",
    "from sklearn.metrics import *\n",
    "\n",
    "auc(y, y_pred)"
   ]
  },
  {
   "cell_type": "code",
   "execution_count": null,
   "id": "01e68cbe",
   "metadata": {},
   "outputs": [],
   "source": [
    "X_sampled = X#.sample(100, random_state=10)\n",
    "\n",
    "explainer = shap.TreeExplainer(model)\n",
    "        \n",
    "shap_values = explainer.shap_values(X_sampled)\n",
    "\n",
    "shap.summary_plot(shap_values, X_sampled, show=False)"
   ]
  },
  {
   "cell_type": "code",
   "execution_count": null,
   "id": "fcc61e84",
   "metadata": {},
   "outputs": [],
   "source": []
  },
  {
   "cell_type": "code",
   "execution_count": null,
   "id": "d58b42eb",
   "metadata": {},
   "outputs": [],
   "source": []
  },
  {
   "cell_type": "code",
   "execution_count": null,
   "id": "de4963d6",
   "metadata": {},
   "outputs": [],
   "source": []
  },
  {
   "cell_type": "code",
   "execution_count": null,
   "id": "ab3aa35c",
   "metadata": {},
   "outputs": [],
   "source": [
    "input_csv_path = '30163_to_16408_imputed_outcome_grid.csv'\n",
    "input_csv_path ='df_combined_total_mean_10k.csv'\n",
    "\n",
    "input_csv_path = 'hfe_TC_merge_mean_Im_10k_1yr_forward_backward_imp_M.csv'\n",
    "\n",
    "input_csv_path = 'hfe_TC_merge_mean_Im_10k_1yr_forward_backward_imp_M.csv'"
   ]
  },
  {
   "cell_type": "code",
   "execution_count": null,
   "id": "2b9e82a1",
   "metadata": {},
   "outputs": [],
   "source": [
    "pwd"
   ]
  },
  {
   "cell_type": "code",
   "execution_count": null,
   "id": "aa8447bf",
   "metadata": {},
   "outputs": [],
   "source": [
    "#df_columns = pd.read_csv('/data/AS/Samora/HFE/HFE/v19/'+input_csv_path, nrows=1)\n",
    "df_columns = pd.read_csv(input_csv_path, nrows=1)\n",
    "\n"
   ]
  },
  {
   "cell_type": "code",
   "execution_count": null,
   "id": "fda5d70b",
   "metadata": {},
   "outputs": [],
   "source": [
    "df_columns"
   ]
  },
  {
   "cell_type": "code",
   "execution_count": null,
   "id": "b9b842f5",
   "metadata": {},
   "outputs": [],
   "source": [
    "all_columns = list(df_columns)"
   ]
  },
  {
   "cell_type": "code",
   "execution_count": null,
   "id": "13db1c0c",
   "metadata": {},
   "outputs": [],
   "source": [
    "try:\n",
    "    int_f_list = list(map(int, df['BL_1'].iloc[0].strip(\"[\").strip(\"]\").replace(\" \", \"\").split(\",\")))\n",
    "except:\n",
    "    pass"
   ]
  },
  {
   "cell_type": "code",
   "execution_count": null,
   "id": "583e88a5",
   "metadata": {},
   "outputs": [],
   "source": [
    "len(int_f_list)"
   ]
  },
  {
   "cell_type": "code",
   "execution_count": null,
   "id": "343725d3",
   "metadata": {},
   "outputs": [],
   "source": [
    "all_columns"
   ]
  },
  {
   "cell_type": "code",
   "execution_count": null,
   "id": "8adb9b2d",
   "metadata": {},
   "outputs": [],
   "source": [
    "len([b for a, b in zip(int_f_list, all_columns) if a])"
   ]
  },
  {
   "cell_type": "code",
   "execution_count": null,
   "id": "edfb6348",
   "metadata": {},
   "outputs": [],
   "source": [
    "[b for a, b in zip(int_f_list, all_columns) if a]"
   ]
  },
  {
   "cell_type": "code",
   "execution_count": null,
   "id": "96ad4489",
   "metadata": {},
   "outputs": [],
   "source": []
  },
  {
   "cell_type": "code",
   "execution_count": null,
   "id": "a9a0bab2",
   "metadata": {},
   "outputs": [],
   "source": [
    "def get_column_names(raw_string_vector):\n",
    "    #df['BL_1'].iloc[0]\n",
    "    int_f_list = list(map(int, raw_string_vector.strip(\"[\").strip(\"]\").replace(\" \", \"\").split(\",\")))\n",
    "    res = [b for a, b in zip(int_f_list, all_columns) if a]\n",
    "    \n",
    "    return res\n",
    "    \n",
    "    \n",
    "    "
   ]
  },
  {
   "cell_type": "code",
   "execution_count": null,
   "id": "0cfc3273",
   "metadata": {},
   "outputs": [],
   "source": [
    "data_sv = []\n",
    "\n",
    "for j in range(0, 63):\n",
    "    for i in range(0, len(df)):\n",
    "        sv = df[f'BL_{j}'].iloc[i]\n",
    "        if(type(sv)== str):\n",
    "            svcn = get_column_names(sv)\n",
    "            data_sv.extend(svcn)\n",
    "        \n",
    "    "
   ]
  },
  {
   "cell_type": "code",
   "execution_count": null,
   "id": "ed5c080e",
   "metadata": {},
   "outputs": [],
   "source": [
    "pd.Series(data_sv).value_counts()[0:10].plot(kind='barh')"
   ]
  },
  {
   "cell_type": "code",
   "execution_count": null,
   "id": "3bbf6ede",
   "metadata": {},
   "outputs": [],
   "source": [
    "pd.Series(data_sv).value_counts()[0:20]"
   ]
  },
  {
   "cell_type": "code",
   "execution_count": null,
   "id": "90b60704",
   "metadata": {},
   "outputs": [],
   "source": []
  },
  {
   "cell_type": "code",
   "execution_count": null,
   "id": "b782d1aa",
   "metadata": {},
   "outputs": [],
   "source": [
    "svcn = get_column_names(sv)\n",
    "svcn"
   ]
  },
  {
   "cell_type": "code",
   "execution_count": null,
   "id": "ee37e58b",
   "metadata": {},
   "outputs": [],
   "source": [
    "data_sv"
   ]
  },
  {
   "cell_type": "code",
   "execution_count": null,
   "id": "edbf87ba",
   "metadata": {},
   "outputs": [],
   "source": [
    "df['BL_15'].iloc[i]"
   ]
  },
  {
   "cell_type": "code",
   "execution_count": null,
   "id": "82c33a8b",
   "metadata": {},
   "outputs": [],
   "source": [
    "type(_)"
   ]
  },
  {
   "cell_type": "code",
   "execution_count": null,
   "id": "8b484582",
   "metadata": {},
   "outputs": [],
   "source": []
  },
  {
   "cell_type": "code",
   "execution_count": null,
   "id": "8863411f",
   "metadata": {},
   "outputs": [],
   "source": []
  },
  {
   "cell_type": "code",
   "execution_count": null,
   "id": "a4beeeac",
   "metadata": {},
   "outputs": [],
   "source": [
    "df_columns = pd.read_csv(input_csv_path)"
   ]
  },
  {
   "cell_type": "code",
   "execution_count": null,
   "id": "4f874a10",
   "metadata": {},
   "outputs": [],
   "source": [
    "df_columns"
   ]
  },
  {
   "cell_type": "code",
   "execution_count": null,
   "id": "4324b6e2",
   "metadata": {},
   "outputs": [],
   "source": [
    "for col in df_columns.columns:\n",
    "    if(col.lower().find(\"ferr\")!=-1):\n",
    "        print(col)"
   ]
  },
  {
   "cell_type": "code",
   "execution_count": null,
   "id": "00ab665f",
   "metadata": {},
   "outputs": [],
   "source": [
    "df_columns[df_columns['Iron overload (disorder)_count_subject_present']==1]"
   ]
  },
  {
   "cell_type": "code",
   "execution_count": null,
   "id": "1fb233de",
   "metadata": {},
   "outputs": [],
   "source": []
  }
 ],
 "metadata": {
  "kernelspec": {
   "display_name": "ga_env",
   "language": "python",
   "name": "ga_env"
  },
  "language_info": {
   "codemirror_mode": {
    "name": "ipython",
    "version": 3
   },
   "file_extension": ".py",
   "mimetype": "text/x-python",
   "name": "python",
   "nbconvert_exporter": "python",
   "pygments_lexer": "ipython3",
   "version": "3.6.9"
  }
 },
 "nbformat": 4,
 "nbformat_minor": 5
}
