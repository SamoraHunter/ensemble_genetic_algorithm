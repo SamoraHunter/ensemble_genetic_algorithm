{
 "cells": [
  {
   "cell_type": "code",
   "execution_count": 1,
   "metadata": {},
   "outputs": [],
   "source": [
    "import os\n",
    "os.chdir(\"..\")\n",
    "os.chdir(\"..\")"
   ]
  },
  {
   "cell_type": "code",
   "execution_count": 2,
   "metadata": {},
   "outputs": [
    {
     "data": {
      "text/plain": [
       "'c:\\\\Users\\\\admin1\\\\Documents\\\\projects\\\\ensemble_genetic_algorithm'"
      ]
     },
     "execution_count": 2,
     "metadata": {},
     "output_type": "execute_result"
    }
   ],
   "source": [
    "pwd"
   ]
  },
  {
   "cell_type": "code",
   "execution_count": 3,
   "metadata": {},
   "outputs": [],
   "source": [
    "import ipywidgets as ipw\n",
    "output = ipw.Output()"
   ]
  },
  {
   "cell_type": "code",
   "execution_count": 4,
   "metadata": {},
   "outputs": [
    {
     "name": "stdout",
     "output_type": "stream",
     "text": [
      "ml_grid imported\n",
      "Imported logistic regression class\n",
      "HFE_GA_experiments/2024-03-13_04-12-43_PM/\n"
     ]
    },
    {
     "ename": "NameError",
     "evalue": "name 'grid_param_space_ga' is not defined",
     "output_type": "error",
     "traceback": [
      "\u001b[1;31m---------------------------------------------------------------------------\u001b[0m",
      "\u001b[1;31mNameError\u001b[0m                                 Traceback (most recent call last)",
      "Cell \u001b[1;32mIn[4], line 68\u001b[0m\n\u001b[0;32m     64\u001b[0m project_score_save_class(base_project_dir)\n\u001b[0;32m     66\u001b[0m n_iter \u001b[38;5;241m=\u001b[39m \u001b[38;5;241m1\u001b[39m\n\u001b[1;32m---> 68\u001b[0m grid_iter_obj \u001b[38;5;241m=\u001b[39m \u001b[43mgrid_param_space_ga\u001b[49m\u001b[38;5;241m.\u001b[39mGrid(sample_n\u001b[38;5;241m=\u001b[39mn_iter)\u001b[38;5;241m.\u001b[39msettings_list_iterator\n\u001b[0;32m     70\u001b[0m modelFuncList \u001b[38;5;241m=\u001b[39m [\n\u001b[0;32m     71\u001b[0m     \u001b[38;5;66;03m#         dummy_model_gen,\u001b[39;00m\n\u001b[0;32m     72\u001b[0m     \u001b[38;5;66;03m#         dummy_model_gen,\u001b[39;00m\n\u001b[1;32m   (...)\u001b[0m\n\u001b[0;32m     88\u001b[0m     Pytorch_binary_class_ModelGenerator,\n\u001b[0;32m     89\u001b[0m ]\n\u001b[0;32m     92\u001b[0m config_dict \u001b[38;5;241m=\u001b[39m {\n\u001b[0;32m     93\u001b[0m     \u001b[38;5;124m\"\u001b[39m\u001b[38;5;124muse_stored_base_learners\u001b[39m\u001b[38;5;124m\"\u001b[39m: \u001b[38;5;28;01mFalse\u001b[39;00m,\n\u001b[0;32m     94\u001b[0m     \u001b[38;5;124m\"\u001b[39m\u001b[38;5;124mmodelFuncList\u001b[39m\u001b[38;5;124m\"\u001b[39m: modelFuncList,\n\u001b[0;32m     95\u001b[0m }\n",
      "\u001b[1;31mNameError\u001b[0m: name 'grid_param_space_ga' is not defined"
     ]
    }
   ],
   "source": [
    "#\n",
    "import ml_grid\n",
    "import pathlib\n",
    "import datetime\n",
    "from tqdm import tqdm\n",
    "from ml_grid.util import grid_param_space_ga\n",
    "\n",
    "import pandas as pd\n",
    "from ml_grid.model_classes_ga.adaboostClassifier_model import (\n",
    "    AdaBoostClassifierModelGenerator,\n",
    ")\n",
    "from ml_grid.model_classes_ga.extra_trees_model import extraTreesModelGenerator\n",
    "from ml_grid.model_classes_ga.gradientBoostingClassifier_model import (\n",
    "    GradientBoostingClassifier_ModelGenerator,\n",
    ")\n",
    "from ml_grid.model_classes_ga.logistic_regression_model import logisticRegressionModelGenerator\n",
    "from ml_grid.model_classes_ga.mlpClassifier_model import MLPClassifier_ModelGenerator\n",
    "from ml_grid.model_classes_ga.perceptron_model import perceptronModelGenerator\n",
    "from ml_grid.model_classes_ga.quadraticDiscriminantAnalysis_model import (\n",
    "    QuadraticDiscriminantAnalysis_ModelGenerator,\n",
    ")\n",
    "from ml_grid.model_classes_ga.randomForest_model import randomForestModelGenerator\n",
    "from ml_grid.model_classes_ga.svc_model import SVC_ModelGenerator\n",
    "from ml_grid.model_classes_ga.gaussianNB_model import GaussianNB_ModelGenerator\n",
    "from ml_grid.model_classes_ga.kNearestNeighbors_model import (\n",
    "    kNearestNeighborsModelGenerator,\n",
    ")\n",
    "from ml_grid.model_classes_ga.elasticNeuralNetwork_model import (\n",
    "    elasticNeuralNetworkModelGenerator,\n",
    ")\n",
    "from ml_grid.model_classes_ga.XGBoost_model import XGBoostModelGenerator\n",
    "from ml_grid.model_classes_ga.decisionTreeClassifier_model import (\n",
    "    DecisionTreeClassifierModelGenerator,\n",
    ")\n",
    "from ml_grid.model_classes_ga.pytorchANNBinaryClassifier_model import (\n",
    "    Pytorch_binary_class_ModelGenerator,\n",
    ")\n",
    "\n",
    "\n",
    "from ml_grid.util.project_score_save import project_score_save_class\n",
    "\n",
    "base_project_dir_global = \"HFE_GA_experiments/\"\n",
    "\n",
    "pathlib.Path(base_project_dir_global).mkdir(parents=True, exist_ok=True)\n",
    "\n",
    "st_time = datetime.datetime.now().strftime(\"%Y-%m-%d_%I-%M-%S_%p\")\n",
    "\n",
    "base_project_dir = \"HFE_GA_experiments/\" + st_time + \"/\"\n",
    "additional_naming = \"HFE_GA_Grid_\"\n",
    "\n",
    "print(base_project_dir)\n",
    "\n",
    "pathlib.Path(base_project_dir).mkdir(parents=True, exist_ok=True)\n",
    "\n",
    "# input_csv_path = '/home/aliencat/samora/HFE/HFE/v20/30163_to_16408_imputed_outcome_grid.csv'\n",
    "\n",
    "input_csv_path = (\n",
    "    \"/home/aliencat/samora/HFE/HFE/v22/hfe_TC_merge_T_Im_10k_1yr_mean_imputed.csv\"\n",
    ")\n",
    "\n",
    "input_csv_path = \"ml_grid/tests/synthetic_sample_100_features_4.csv\"\n",
    "\n",
    "# init csv to store each local projects results\n",
    "\n",
    "project_score_save_class(base_project_dir)\n",
    "\n",
    "n_iter = 1\n",
    "\n",
    "grid_iter_obj = grid_param_space_ga.Grid(sample_n=n_iter).settings_list_iterator\n",
    "\n",
    "modelFuncList = [\n",
    "    #         dummy_model_gen,\n",
    "    #         dummy_model_gen,\n",
    "    logisticRegressionModelGenerator,\n",
    "    perceptronModelGenerator,\n",
    "    extraTreesModelGenerator,\n",
    "    randomForestModelGenerator,\n",
    "    kNearestNeighborsModelGenerator,\n",
    "    XGBoostModelGenerator,\n",
    "    DecisionTreeClassifierModelGenerator,\n",
    "    AdaBoostClassifierModelGenerator,\n",
    "    elasticNeuralNetworkModelGenerator,\n",
    "    GaussianNB_ModelGenerator,\n",
    "    QuadraticDiscriminantAnalysis_ModelGenerator,\n",
    "    SVC_ModelGenerator,\n",
    "    GradientBoostingClassifier_ModelGenerator,\n",
    "    MLPClassifier_ModelGenerator,\n",
    "    # #     #KerasClassifier_ModelGen()\n",
    "    Pytorch_binary_class_ModelGenerator,\n",
    "]\n",
    "\n",
    "\n",
    "config_dict = {\n",
    "    \"use_stored_base_learners\": False,\n",
    "    \"modelFuncList\": modelFuncList,\n",
    "}\n",
    "\n",
    "\n",
    "for i in tqdm(range(0, n_iter)):\n",
    "    output.clear_output(wait=True)\n",
    "\n",
    "    # get settings from iterator over grid of settings space\n",
    "    local_param_dict = next(grid_iter_obj)\n",
    "\n",
    "    # create object from settings\n",
    "    ml_grid_object = ml_grid.pipeline.data.pipe(\n",
    "        input_csv_path,\n",
    "        drop_term_list=[\"chrom\", \"hfe\", \"phlebo\"],\n",
    "        local_param_dict=local_param_dict,\n",
    "        base_project_dir=base_project_dir,\n",
    "        additional_naming=additional_naming,\n",
    "        test_sample_n=0,\n",
    "        param_space_index=i,\n",
    "        config_dict=config_dict,\n",
    "    )\n",
    "\n",
    "    use_stored_base_learners = local_param_dict.get(\"use_stored_base_learners\")\n",
    "\n",
    "    store_base_learners = local_param_dict.get(\"store_base_learners\")\n",
    "\n",
    "    from ml_grid.pipeline import main_ga\n",
    "\n",
    "    # pass object to be evaluated and write results to csv\n",
    "    res = main_ga.run(ml_grid_object, local_param_dict=local_param_dict).execute()"
   ]
  }
 ],
 "metadata": {
  "kernelspec": {
   "display_name": "ga_env",
   "language": "python",
   "name": "python3"
  },
  "language_info": {
   "codemirror_mode": {
    "name": "ipython",
    "version": 3
   },
   "file_extension": ".py",
   "mimetype": "text/x-python",
   "name": "python",
   "nbconvert_exporter": "python",
   "pygments_lexer": "ipython3",
   "version": "3.10.9"
  }
 },
 "nbformat": 4,
 "nbformat_minor": 2
}
